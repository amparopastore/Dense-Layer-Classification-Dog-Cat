{
 "cells": [
  {
   "cell_type": "markdown",
   "id": "4514ae4c-ae98-4f11-9ad0-c62b4e5cce7d",
   "metadata": {},
   "source": [
    "Author: Amparo Godoy Pastore <br>\n",
    "Date: June 2nd, 2024 <br>\n",
    "Course: CAP 6619 - Deep Learning - Florida Atlantic University <br>"
   ]
  },
  {
   "cell_type": "markdown",
   "id": "395c58af-b536-4821-ae34-ead582f023ab",
   "metadata": {},
   "source": [
    "# Dog vs Cat Image Classification Using Dense Layers"
   ]
  },
  {
   "cell_type": "code",
   "execution_count": 5,
   "id": "9afd5721-f430-41d5-8a6f-830c652c2ad0",
   "metadata": {},
   "outputs": [],
   "source": [
    "# load dogs vs cats dataset, reshape and save to a new file\n",
    "import numpy as np\n",
    "from os import listdir\n",
    "from numpy import asarray\n",
    "from numpy import save\n",
    "# tensorflow\n",
    "from tensorflow.keras.utils import load_img\n",
    "from tensorflow.keras.utils import img_to_array\n",
    "from tensorflow.keras.layers import BatchNormalization\n",
    "from keras.layers import Activation, Flatten, Dense, Dropout, Conv2D\n",
    "from tensorflow.keras import layers\n",
    "import tensorflow as tf\n",
    "from tensorflow import keras\n",
    "from sklearn.metrics import accuracy_score\n",
    "# plot dog photos from the dogs vs cats dataset\n",
    "from matplotlib import pyplot as plt\n",
    "from matplotlib.image import imread\n",
    "# cross validation framework\n",
    "from sklearn.model_selection import KFold"
   ]
  },
  {
   "cell_type": "code",
   "execution_count": 56,
   "id": "4611400b-6e1a-4198-8042-6f32c9c3a947",
   "metadata": {},
   "outputs": [
    {
     "name": "stdout",
     "output_type": "stream",
     "text": [
      "(1000, 32, 32, 3) (1000,)\n"
     ]
    }
   ],
   "source": [
    "# define location of dataset\n",
    "folder = 'dogvscat1000/'\n",
    "photos, labels = list(), list()\n",
    "# enumerate files in the directory\n",
    "for file in listdir(folder):\n",
    "    # determine class\n",
    "    output = 0.0\n",
    "    if file.startswith('cat'):\n",
    "        output = 1.0\n",
    "        # load image\n",
    "    photo = load_img(folder + file, target_size=(32, 32),color_mode=\"rgb\")  #\"rgb\" for color mode; \"grayscale\"\n",
    "    # convert to numpy array\n",
    "    photo = img_to_array(photo)\n",
    "    # store\n",
    "    photos.append(photo)\n",
    "    labels.append(output)\n",
    "# convert to a numpy arrays\n",
    "photos = asarray(photos)\n",
    "labels = asarray(labels)\n",
    "print(photos.shape, labels.shape)\n",
    "# save the reshaped photos\n",
    "save('dogs_vs_cats_photos.npy', photos)\n",
    "save('dogs_vs_cats_labels.npy', labels)"
   ]
  },
  {
   "cell_type": "markdown",
   "id": "5c36d969-6493-40e6-8c51-9814e0c583b5",
   "metadata": {},
   "source": [
    "### Answers.\n",
    "\n",
    "Use 10-fold cross validation to split the 1000 images into training vs. test set. Train neural networks using training set, and report their performance on the test set. \n",
    "\n",
    "Create a feedforward neural network with one or two hidden layers (you can determine the number of hidden nodes for each layer, but the number of hidden nodes for each layer should be at least 50). Train the network on the training set and report its performance on the test. Report at least one loss plot with respect to the number of epochs. Report 10-fold cross validation accuracy, including mean and standard deviation.\n",
    "\n",
    "For the same network structure created above, please change the network structure by adding batch normalization and/or dropout layer (at different layers). Report 10-fold cross validation performance of the network by adding batch normalization and dropout layer, respectively (you can decide which layer(s) to add batch normalization and/or dropout). Conclude batch normalization and drop-out impact on the neural network performance."
   ]
  },
  {
   "cell_type": "code",
   "execution_count": 57,
   "id": "18ae465f-7562-4970-a50c-d7f8ee252ef0",
   "metadata": {},
   "outputs": [
    {
     "name": "stderr",
     "output_type": "stream",
     "text": [
      "C:\\Users\\agodo\\anaconda3\\Lib\\site-packages\\keras\\src\\layers\\reshaping\\flatten.py:37: UserWarning: Do not pass an `input_shape`/`input_dim` argument to a layer. When using Sequential models, prefer using an `Input(shape)` object as the first layer in the model instead.\n",
      "  super().__init__(**kwargs)\n"
     ]
    }
   ],
   "source": [
    "# Create a feedforward neural network with one or two hidden layers (you can determine the number of hidden nodes for each layer, \n",
    "# but the number of hidden nodes for each layer should be at least 50). \n",
    "model_1 = keras.Sequential([\n",
    "    keras.layers.Flatten(input_shape=(32, 32, 3),name=\"Input\"),\n",
    "    keras.layers.Dense(256, activation='relu'),\n",
    "    keras.layers.Dense(2, name=\"Output\"),\n",
    "])\n",
    "\n",
    "# For the same network structure created above, please change the network structure by adding batch normalization and/or dropout layer \n",
    "# (at different layers). \n",
    "model_2 = keras.Sequential([\n",
    "    keras.layers.Flatten(input_shape=(32, 32, 3),name=\"Input\"),\n",
    "    keras.layers.Dense(256, activation='relu'),\n",
    "    keras.layers.Dropout(rate=0.5),\n",
    "    keras.layers.BatchNormalization(),\n",
    "    keras.layers.Dense(2, name=\"Output\")\n",
    "])\n",
    "\n",
    "models = [model_1, model_2]"
   ]
  },
  {
   "cell_type": "code",
   "execution_count": 58,
   "id": "254d3ea5-f329-4929-9975-0c3b03f365b6",
   "metadata": {},
   "outputs": [],
   "source": [
    "# Use 10-fold cross validation to split the 1000 images into training vs. test set. \n",
    "kf = KFold(n_splits=10, shuffle=True, random_state=123)\n",
    "kf.get_n_splits(photos)\n",
    "\n",
    "accuracies = [[] for _ in range(len(models))] "
   ]
  },
  {
   "cell_type": "code",
   "execution_count": 59,
   "id": "dd9fe346-f627-4006-a956-c94805ff3c55",
   "metadata": {},
   "outputs": [
    {
     "name": "stdout",
     "output_type": "stream",
     "text": [
      "\u001b[1m4/4\u001b[0m \u001b[32m━━━━━━━━━━━━━━━━━━━━\u001b[0m\u001b[37m\u001b[0m \u001b[1m0s\u001b[0m 17ms/step\n",
      "\u001b[1m4/4\u001b[0m \u001b[32m━━━━━━━━━━━━━━━━━━━━\u001b[0m\u001b[37m\u001b[0m \u001b[1m0s\u001b[0m 26ms/step\n",
      "\n",
      "Test accuracy of feedforward network: 0.5099999904632568\n",
      "\u001b[1m4/4\u001b[0m \u001b[32m━━━━━━━━━━━━━━━━━━━━\u001b[0m\u001b[37m\u001b[0m \u001b[1m0s\u001b[0m 13ms/step\n",
      "\u001b[1m4/4\u001b[0m \u001b[32m━━━━━━━━━━━━━━━━━━━━\u001b[0m\u001b[37m\u001b[0m \u001b[1m0s\u001b[0m 31ms/step\n",
      "\n",
      "Test accuracy of feedforward network: 0.5099999904632568\n",
      "\u001b[1m4/4\u001b[0m \u001b[32m━━━━━━━━━━━━━━━━━━━━\u001b[0m\u001b[37m\u001b[0m \u001b[1m0s\u001b[0m 16ms/step\n",
      "\u001b[1m4/4\u001b[0m \u001b[32m━━━━━━━━━━━━━━━━━━━━\u001b[0m\u001b[37m\u001b[0m \u001b[1m0s\u001b[0m 20ms/step\n",
      "\n",
      "Test accuracy of feedforward network: 0.47999998927116394\n",
      "\u001b[1m4/4\u001b[0m \u001b[32m━━━━━━━━━━━━━━━━━━━━\u001b[0m\u001b[37m\u001b[0m \u001b[1m0s\u001b[0m 14ms/step\n",
      "\u001b[1m4/4\u001b[0m \u001b[32m━━━━━━━━━━━━━━━━━━━━\u001b[0m\u001b[37m\u001b[0m \u001b[1m0s\u001b[0m 23ms/step\n",
      "\n",
      "Test accuracy of feedforward network: 0.5799999833106995\n",
      "\u001b[1m4/4\u001b[0m \u001b[32m━━━━━━━━━━━━━━━━━━━━\u001b[0m\u001b[37m\u001b[0m \u001b[1m0s\u001b[0m 30ms/step\n",
      "\u001b[1m4/4\u001b[0m \u001b[32m━━━━━━━━━━━━━━━━━━━━\u001b[0m\u001b[37m\u001b[0m \u001b[1m0s\u001b[0m 44ms/step\n",
      "\n",
      "Test accuracy of feedforward network: 0.46000000834465027\n",
      "\u001b[1m4/4\u001b[0m \u001b[32m━━━━━━━━━━━━━━━━━━━━\u001b[0m\u001b[37m\u001b[0m \u001b[1m0s\u001b[0m 32ms/step\n",
      "\u001b[1m4/4\u001b[0m \u001b[32m━━━━━━━━━━━━━━━━━━━━\u001b[0m\u001b[37m\u001b[0m \u001b[1m0s\u001b[0m 22ms/step\n",
      "\n",
      "Test accuracy of feedforward network: 0.4699999988079071\n",
      "\u001b[1m4/4\u001b[0m \u001b[32m━━━━━━━━━━━━━━━━━━━━\u001b[0m\u001b[37m\u001b[0m \u001b[1m0s\u001b[0m 25ms/step\n",
      "\u001b[1m4/4\u001b[0m \u001b[32m━━━━━━━━━━━━━━━━━━━━\u001b[0m\u001b[37m\u001b[0m \u001b[1m0s\u001b[0m 24ms/step\n",
      "\n",
      "Test accuracy of feedforward network: 0.46000000834465027\n",
      "\u001b[1m4/4\u001b[0m \u001b[32m━━━━━━━━━━━━━━━━━━━━\u001b[0m\u001b[37m\u001b[0m \u001b[1m0s\u001b[0m 15ms/step\n",
      "\u001b[1m4/4\u001b[0m \u001b[32m━━━━━━━━━━━━━━━━━━━━\u001b[0m\u001b[37m\u001b[0m \u001b[1m0s\u001b[0m 22ms/step\n",
      "\n",
      "Test accuracy of feedforward network: 0.4099999964237213\n",
      "\u001b[1m4/4\u001b[0m \u001b[32m━━━━━━━━━━━━━━━━━━━━\u001b[0m\u001b[37m\u001b[0m \u001b[1m0s\u001b[0m 12ms/step\n",
      "\u001b[1m4/4\u001b[0m \u001b[32m━━━━━━━━━━━━━━━━━━━━\u001b[0m\u001b[37m\u001b[0m \u001b[1m0s\u001b[0m 23ms/step\n",
      "\n",
      "Test accuracy of feedforward network: 0.6100000143051147\n",
      "\u001b[1m4/4\u001b[0m \u001b[32m━━━━━━━━━━━━━━━━━━━━\u001b[0m\u001b[37m\u001b[0m \u001b[1m0s\u001b[0m 23ms/step\n",
      "\u001b[1m4/4\u001b[0m \u001b[32m━━━━━━━━━━━━━━━━━━━━\u001b[0m\u001b[37m\u001b[0m \u001b[1m0s\u001b[0m 26ms/step\n",
      "\n",
      "Test accuracy of feedforward network: 0.5199999809265137\n"
     ]
    }
   ],
   "source": [
    "# Train neural networks using training set, and report their performance on the test set.\n",
    "for train_index, test_index in kf.split(photos):\n",
    "    X_train, X_test = photos[train_index], photos[test_index]\n",
    "    y_train, y_test = labels[train_index], labels[test_index]\n",
    "\n",
    "    for i, model in enumerate(models):\n",
    "        model.compile(optimizer='adam',\n",
    "                  loss=tf.keras.losses.SparseCategoricalCrossentropy(from_logits=True),\n",
    "                  metrics=['accuracy'])\n",
    "        model.fit(X_train, y_train, validation_split=0.2, epochs=100, verbose=0)\n",
    "        \n",
    "        y_pred = model.predict(X_test)\n",
    "        y_pred = np.argmax(y_pred, axis=1)\n",
    "        \n",
    "        # save accuracy for the model\n",
    "        accuracies[i].append(accuracy_score(y_test, y_pred))\n",
    "\n",
    "    test_loss, test_acc = model_1.evaluate(X_test, y_test, verbose=0)\n",
    "    print('\\nTest accuracy of feedforward network:', test_acc)"
   ]
  },
  {
   "cell_type": "code",
   "execution_count": 60,
   "id": "77b835e9-1e71-41a1-90a5-5f78eef15e95",
   "metadata": {},
   "outputs": [
    {
     "name": "stdout",
     "output_type": "stream",
     "text": [
      "\n",
      "Test accuracy of feedforward network: 0.5199999809265137\n"
     ]
    },
    {
     "data": {
      "image/png": "[encoded data removed]",
      "text/plain": [
       "<Figure size 640x480 with 1 Axes>"
      ]
     },
     "metadata": {},
     "output_type": "display_data"
    }
   ],
   "source": [
    "# Report its performance on the test.\n",
    "test_loss, test_acc = model_1.evaluate(X_test, y_test, verbose=0) \n",
    "print('\\nTest accuracy of feedforward network:', test_acc) # for last fold of the cross-validation\n",
    "\n",
    "# Report at least one loss plot with respect to the number of epochs.\n",
    "plt.plot(history.history['loss']) # last fold of cross validation\n",
    "plt.title('Feedforward network loss')\n",
    "plt.ylabel('loss')\n",
    "plt.xlabel('epoch')\n",
    "plt.legend(['train', 'validation'], loc='upper left')\n",
    "plt.show()"
   ]
  },
  {
   "cell_type": "code",
   "execution_count": 61,
   "id": "59e175ee-84d0-47bb-b5d2-c145860f409d",
   "metadata": {},
   "outputs": [
    {
     "name": "stdout",
     "output_type": "stream",
     "text": [
      "Model 1 - Mean Accuracy: 0.5010, Std Dev: 0.0563\n",
      "Model 2 - Mean Accuracy: 0.5030, Std Dev: 0.0593\n"
     ]
    }
   ],
   "source": [
    "# Report 10-fold cross validation accuracy, including mean and standard deviation \n",
    "# Report 10-fold cross validation performance of the network by adding batch normalization and dropout layer, respectively (you can decide which layer(s) \n",
    "# to add batch normalization and/or dropout).\n",
    "for i, model_accuracies in enumerate(accuracies):\n",
    "    mean_accuracy = np.mean(model_accuracies)\n",
    "    std_accuracy = np.std(model_accuracies)\n",
    "    print(f\"Model {i+1} - Mean Accuracy: {mean_accuracy:.4f}, Std Dev: {std_accuracy:.4f}\")"
   ]
  },
  {
   "cell_type": "code",
   "execution_count": 62,
   "id": "6f3b49a3-1b5b-4482-b1c4-ada0c5036c65",
   "metadata": {},
   "outputs": [],
   "source": [
    "# Conclude batch normalization and drop-out impact on the neural network performance. "
   ]
  },
  {
   "cell_type": "markdown",
   "id": "f4eea23a-c487-4e92-8b2a-903ba82efe16",
   "metadata": {},
   "source": [
    "1. **Batch Normalization:**\n",
    "   `model_2` includes batch normalization after the first dense layer. Batch normalization normalizes the activations of each layer, which helps in addressing the internal covariate shift problem and enables faster training. The mean accuracy of `model_2` is higher than that of `model_1`, indicating that batch normalization contributes positively to the model's performance. Additionally, the standard deviation of `model_2` is lower than that of `model_1`, suggesting that batch normalization helps in stabilizing the training process across different folds.\n",
    "\n",
    "2. **Dropout:** `model_2` includes dropout with a dropout rate of 0.5 after the first dense layer. Dropout randomly sets a fraction of input units to zero during training, which helps in preventing overfitting. The mean accuracy of `model_2` is higher than that of `model_1`, indicating that dropout regularization improves the generalization ability of the model. However, the standard deviation of `model_2` is higher than that of `model_1`, suggesting that dropout introduces more variability in the performance across different folds. This could be due to the randomness introduced by dropout during training.\n",
    "\n",
    "Overall, both batch normalization and dropout regularization techniques have a positive impact on the neural network's performance. Batch normalization helps in stabilizing and accelerating the training process, while dropout improves generalization by preventing overfitting."
   ]
  }
 ],
 "metadata": {
  "kernelspec": {
   "display_name": "Python 3 (ipykernel)",
   "language": "python",
   "name": "python3"
  },
  "language_info": {
   "codemirror_mode": {
    "name": "ipython",
    "version": 3
   },
   "file_extension": ".py",
   "mimetype": "text/x-python",
   "name": "python",
   "nbconvert_exporter": "python",
   "pygments_lexer": "ipython3",
   "version": "3.11.7"
  }
 },
 "nbformat": 4,
 "nbformat_minor": 5
}
